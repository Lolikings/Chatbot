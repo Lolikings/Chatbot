{
 "cells": [
  {
   "cell_type": "code",
   "execution_count": 19,
   "metadata": {},
   "outputs": [],
   "source": [
    "\n",
    "import nltk\n",
    "from nltk.chat.util import Chat , reflections\n"
   ]
  },
  {
   "cell_type": "code",
   "execution_count": 24,
   "metadata": {},
   "outputs": [],
   "source": [
    "pairs = [\n",
    "    ['hi', ['Hello!', 'Hi there!', 'Greetings!']],\n",
    "    ['how are you', ['I am good, thank you!', 'I am doing well!', 'I am fine!']],\n",
    "    ['bye', ['Goodbye!', 'Bye-bye!', 'Take care!'],]\n",
    "]\n",
    "c = Chat(pairs,reflections)\n"
   ]
  },
  {
   "cell_type": "code",
   "execution_count": 23,
   "metadata": {},
   "outputs": [
    {
     "name": "stdout",
     "output_type": "stream",
     "text": [
      "c: Hello!\n",
      "c: Take care!\n"
     ]
    }
   ],
   "source": [
    "while True:\n",
    "    user_input = input(\"Yu:\")\n",
    "    res = c.respond(user_input)\n",
    "    print(\"c:\", res)\n",
    "    \n",
    "    if user_input.lower() == 'bye':\n",
    "        break      "
   ]
  }
 ],
 "metadata": {
  "kernelspec": {
   "display_name": "Python 3.10.8 64-bit",
   "language": "python",
   "name": "python3"
  },
  "language_info": {
   "codemirror_mode": {
    "name": "ipython",
    "version": 3
   },
   "file_extension": ".py",
   "mimetype": "text/x-python",
   "name": "python",
   "nbconvert_exporter": "python",
   "pygments_lexer": "ipython3",
   "version": "3.10.8"
  },
  "orig_nbformat": 4,
  "vscode": {
   "interpreter": {
    "hash": "aee8b7b246df8f9039afb4144a1f6fd8d2ca17a180786b69acc140d282b71a49"
   }
  }
 },
 "nbformat": 4,
 "nbformat_minor": 2
}
